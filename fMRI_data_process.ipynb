{
 "cells": [
  {
   "cell_type": "code",
   "execution_count": 12,
   "metadata": {},
   "outputs": [],
   "source": [
    "#### location of subject_1.mat:: https://datadryad.org/resource/doi:10.5061/dryad.gt413 ####\n",
    "\n",
    "import numpy as np\n",
    "import pandas as pd\n",
    "from scipy.io import loadmat"
   ]
  },
  {
   "cell_type": "code",
   "execution_count": 2,
   "metadata": {},
   "outputs": [],
   "source": [
    "def fMRI_initiate(file_name):\n",
    "    subject = loadmat(file_name)\n",
    "    time = subject['time']\n",
    "    data = subject['data']\n",
    "    meta = subject['meta']\n",
    "    words = subject['words']\n",
    "    \n",
    "    result = {\n",
    "        'time': time,\n",
    "        'data': data,\n",
    "        'meta': meta,\n",
    "        'words': words\n",
    "    }\n",
    "    \n",
    "    return result\n"
   ]
  },
  {
   "cell_type": "code",
   "execution_count": 3,
   "metadata": {},
   "outputs": [],
   "source": [
    "## get words and its length, start time and duration\n",
    "def get_words_start_time(words):\n",
    "    count_records = words.shape[1]\n",
    "    array_records = [];\n",
    "    for i in range(count_records):\n",
    "        single_row = words[0,i]\n",
    "        transfer_row = np.array([\"[\" + single_row[0][0,0][0] + \"]\", len(single_row[0][0,0][0]), single_row[1][0,0], single_row[2][0,0]])\n",
    "        array_records.append(transfer_row)\n",
    "    return  np.array(array_records)\n",
    "    #np.savetxt('foo.txt', result_array, delimiter=\"~\", fmt=\"%s\")"
   ]
  },
  {
   "cell_type": "raw",
   "metadata": {
    "scrolled": false
   },
   "source": [
    "## Ouput columns :: time, section, voxels (including ROI and ROI name in 1st and 2nd row)\n",
    "\n",
    "# ROIMap - row1 ROI, row2 Name of Region\n",
    "ROIMap = np.empty([2, colToROInum.shape[1]], dtype='object')\n",
    "for i in range(ROIMap.shape[1]):\n",
    "    ROIMap[0,i] = colToROInum[0,i]\n",
    "    ROIMap[1,i] = subject_1_meta['ROInumToName'][0,0][0,colToROInum[0,i]-1][0]\n",
    "ROIMap.shape\n",
    "\n",
    "# add ROI, ROIname, data together\n",
    "result_meta_data = np.concatenate((ROIMap, subject_1_data), axis=0)\n",
    "\n",
    "# add time and section to left of result_meta_data\n",
    "result_time_meta_data = np.concatenate((result_time, result_meta_data), axis=1)\n",
    "#np.savetxt('result_data.csv', result_time_meta_data, delimiter=\",\", fmt=\"%s\")"
   ]
  },
  {
   "cell_type": "code",
   "execution_count": 5,
   "metadata": {},
   "outputs": [],
   "source": [
    "## fourfold data and extend time from 0,2 --> 0,0.5,1,1.5,2\n",
    "def get_data_time_fourfold(data, time):\n",
    "    subject_data_time =  np.concatenate((time, data), axis=1)\n",
    "    subject_data_time = subject_data_time.astype(np.object)\n",
    "    subject_data_time_fourfold = []\n",
    "    for i in range(subject_data_time.shape[0]):\n",
    "        temp = subject_data_time[i,:].copy()\n",
    "        row_05 = temp.copy()\n",
    "        row_05[0] += 0.5\n",
    "        row_10 = temp.copy()\n",
    "        row_10[0] += 1\n",
    "        row_15 = temp.copy()\n",
    "        row_15[0] += 1.5\n",
    "        subject_data_time_fourfold.append(temp)\n",
    "        subject_data_time_fourfold.append(row_05)\n",
    "        subject_data_time_fourfold.append(row_10)\n",
    "        subject_data_time_fourfold.append(row_15)\n",
    "    subject_data_time_fourfold = np.array(subject_data_time_fourfold)\n",
    "    \n",
    "    for i in range(subject_data_time_fourfold.shape[0]-1):\n",
    "        assert(subject_data_time_fourfold[i,0] == subject_data_time_fourfold[i+1, 0]-0.5)\n",
    "    \n",
    "    subject_data_time_fourfold_time = subject_data_time_fourfold[:,0:2] ## time - fourfold 0,0.5,1,1.5,2 ... \n",
    "    subject_data_time_fourfold_data = subject_data_time_fourfold[:,2:]  ## data - fourfold.\n",
    "    \n",
    "    assert(subject_data_time_fourfold_time.shape[0] == time.shape[0] * 4)\n",
    "    assert(subject_data_time_fourfold_data.shape[0] == data.shape[0] * 4)\n",
    "    assert(subject_data_time_fourfold_data.shape[1] == data.shape[1])\n",
    "    \n",
    "    result = {\n",
    "        'fourfold_time': subject_data_time_fourfold_time,\n",
    "        'fourfold_data': subject_data_time_fourfold_data\n",
    "    }\n",
    "    return result"
   ]
  },
  {
   "cell_type": "code",
   "execution_count": 9,
   "metadata": {},
   "outputs": [],
   "source": [
    "## normalize fourfold data to be between 0 and 1 and round to 4 decimals\n",
    "def data_fourfold_normalize_round(data):\n",
    "    dmax, dmin = data.max(), data.min()\n",
    "    result = (data - dmin) / (dmax - dmin)\n",
    "    result_round = np.around(result.astype(np.double), decimals=4)\n",
    "    return result_round"
   ]
  },
  {
   "cell_type": "code",
   "execution_count": 18,
   "metadata": {},
   "outputs": [],
   "source": [
    "def merge_word_time_data(words, time, data):\n",
    "    ## words: word_start_time\n",
    "    ## time: fourfold_time,\n",
    "    ## data: fourfold_data_normalized\n",
    "    assert(time.shape[0] == data.shape[0])\n",
    "    words.astype(np.object)\n",
    "    time_data = np.concatenate((time, data), axis=1)\n",
    "    result = []\n",
    "    i = 0 # pointer for words [time has gap]\n",
    "    j = 0 # pointer for time_data [time has no gap]\n",
    "    while j < len(time_data):\n",
    "        if str(words[i,2]) == str(time_data[j,0]):\n",
    "            word_time_data = np.append(words[i], time_data[j])\n",
    "            i += 1\n",
    "            j += 1\n",
    "        elif str(words[i,2]) > str(time_data[j,0]):\n",
    "            word_time_data = np.append(np.ones(words.shape[1])*(-1), time_data[j])\n",
    "            j += 1\n",
    "        else:\n",
    "            word_time_data = np.append(words[i], np.ones(time_data[j])*(-1))\n",
    "            i += 1\n",
    "        result.append(word_time_data)\n",
    "    result = np.array(result)\n",
    "    assert(result.shape[0] == time_data.shape[0])\n",
    "    assert(result.shape[1] == words.shape[1] + time_data.shape[1])\n",
    "\n",
    "    return result\n",
    "    "
   ]
  },
  {
   "cell_type": "code",
   "execution_count": 11,
   "metadata": {
    "scrolled": true
   },
   "outputs": [
    {
     "ename": "SyntaxError",
     "evalue": "unexpected EOF while parsing (<ipython-input-11-6e1c4e02100c>, line 2)",
     "output_type": "error",
     "traceback": [
      "\u001b[1;36m  File \u001b[1;32m\"<ipython-input-11-6e1c4e02100c>\"\u001b[1;36m, line \u001b[1;32m2\u001b[0m\n\u001b[1;33m    \u001b[0m\n\u001b[1;37m    ^\u001b[0m\n\u001b[1;31mSyntaxError\u001b[0m\u001b[1;31m:\u001b[0m unexpected EOF while parsing\n"
     ]
    }
   ],
   "source": [
    "def apply_gauss_window(data, window_size = 3):\n",
    "    ## apply gaussian weights \n",
    "    gauss = []\n",
    "    \n",
    "    "
   ]
  },
  {
   "cell_type": "code",
   "execution_count": 19,
   "metadata": {},
   "outputs": [],
   "source": [
    "def fMRI_process(file = 'subject_1.mat'):\n",
    "    ## umbrella method to call all methods\n",
    "    subject = fMRI_initiate(file)\n",
    "    subject_words = subject['words']\n",
    "    words_start_time = get_words_start_time(subject_words)  ## get words with start time and duration\n",
    "    \n",
    "    subject_time = subject['time']\n",
    "    subject_data = subject['data']\n",
    "    \n",
    "    fourfold = get_data_time_fourfold(subject_data, subject_time) ## fourfold\n",
    "    fourfold_time = fourfold['fourfold_time']\n",
    "    fourfold_data = fourfold['fourfold_data']\n",
    "    \n",
    "    fourfold_data_norm = data_fourfold_normalize_round(fourfold_data)\n",
    "    \n",
    "    word_features_orig = merge_word_time_data(words_start_time, fourfold_time, fourfold_data_norm)\n",
    "    \n",
    "    return word_features_orig"
   ]
  },
  {
   "cell_type": "code",
   "execution_count": 20,
   "metadata": {},
   "outputs": [
    {
     "ename": "MemoryError",
     "evalue": "",
     "output_type": "error",
     "traceback": [
      "\u001b[1;31m---------------------------------------------------------------------------\u001b[0m",
      "\u001b[1;31mMemoryError\u001b[0m                               Traceback (most recent call last)",
      "\u001b[1;32m<ipython-input-20-c1c0cf1d3064>\u001b[0m in \u001b[0;36m<module>\u001b[1;34m()\u001b[0m\n\u001b[1;32m----> 1\u001b[1;33m \u001b[0mword_features_orig\u001b[0m \u001b[1;33m=\u001b[0m \u001b[0mfMRI_process\u001b[0m\u001b[1;33m(\u001b[0m\u001b[0mfile\u001b[0m \u001b[1;33m=\u001b[0m \u001b[1;34m'subject_1.mat'\u001b[0m\u001b[1;33m)\u001b[0m\u001b[1;33m\u001b[0m\u001b[0m\n\u001b[0m",
      "\u001b[1;32m<ipython-input-19-eafa8eaf203e>\u001b[0m in \u001b[0;36mfMRI_process\u001b[1;34m(file)\u001b[0m\n\u001b[0;32m     12\u001b[0m     \u001b[0mfourfold_data\u001b[0m \u001b[1;33m=\u001b[0m \u001b[0mfourfold\u001b[0m\u001b[1;33m[\u001b[0m\u001b[1;34m'fourfold_data'\u001b[0m\u001b[1;33m]\u001b[0m\u001b[1;33m\u001b[0m\u001b[0m\n\u001b[0;32m     13\u001b[0m \u001b[1;33m\u001b[0m\u001b[0m\n\u001b[1;32m---> 14\u001b[1;33m     \u001b[0mfourfold_data_norm\u001b[0m \u001b[1;33m=\u001b[0m \u001b[0mdata_fourfold_normalize_round\u001b[0m\u001b[1;33m(\u001b[0m\u001b[0mfourfold_data\u001b[0m\u001b[1;33m)\u001b[0m\u001b[1;33m\u001b[0m\u001b[0m\n\u001b[0m\u001b[0;32m     15\u001b[0m \u001b[1;33m\u001b[0m\u001b[0m\n\u001b[0;32m     16\u001b[0m     \u001b[0mword_features_orig\u001b[0m \u001b[1;33m=\u001b[0m \u001b[0mmerge_word_time_data\u001b[0m\u001b[1;33m(\u001b[0m\u001b[0mwords_start_time\u001b[0m\u001b[1;33m,\u001b[0m \u001b[0mfourfold_time\u001b[0m\u001b[1;33m,\u001b[0m \u001b[0mfourfold_data_norm\u001b[0m\u001b[1;33m)\u001b[0m\u001b[1;33m\u001b[0m\u001b[0m\n",
      "\u001b[1;32m<ipython-input-9-e2f953cbe31a>\u001b[0m in \u001b[0;36mdata_fourfold_normalize_round\u001b[1;34m(data)\u001b[0m\n\u001b[0;32m      2\u001b[0m \u001b[1;32mdef\u001b[0m \u001b[0mdata_fourfold_normalize_round\u001b[0m\u001b[1;33m(\u001b[0m\u001b[0mdata\u001b[0m\u001b[1;33m)\u001b[0m\u001b[1;33m:\u001b[0m\u001b[1;33m\u001b[0m\u001b[0m\n\u001b[0;32m      3\u001b[0m     \u001b[0mdmax\u001b[0m\u001b[1;33m,\u001b[0m \u001b[0mdmin\u001b[0m \u001b[1;33m=\u001b[0m \u001b[0mdata\u001b[0m\u001b[1;33m.\u001b[0m\u001b[0mmax\u001b[0m\u001b[1;33m(\u001b[0m\u001b[1;33m)\u001b[0m\u001b[1;33m,\u001b[0m \u001b[0mdata\u001b[0m\u001b[1;33m.\u001b[0m\u001b[0mmin\u001b[0m\u001b[1;33m(\u001b[0m\u001b[1;33m)\u001b[0m\u001b[1;33m\u001b[0m\u001b[0m\n\u001b[1;32m----> 4\u001b[1;33m     \u001b[0mresult\u001b[0m \u001b[1;33m=\u001b[0m \u001b[1;33m(\u001b[0m\u001b[0mdata\u001b[0m \u001b[1;33m-\u001b[0m \u001b[0mdmin\u001b[0m\u001b[1;33m)\u001b[0m \u001b[1;33m/\u001b[0m \u001b[1;33m(\u001b[0m\u001b[0mdmax\u001b[0m \u001b[1;33m-\u001b[0m \u001b[0mdmin\u001b[0m\u001b[1;33m)\u001b[0m\u001b[1;33m\u001b[0m\u001b[0m\n\u001b[0m\u001b[0;32m      5\u001b[0m     \u001b[0mresult_round\u001b[0m \u001b[1;33m=\u001b[0m \u001b[0mnp\u001b[0m\u001b[1;33m.\u001b[0m\u001b[0maround\u001b[0m\u001b[1;33m(\u001b[0m\u001b[0mresult\u001b[0m\u001b[1;33m.\u001b[0m\u001b[0mastype\u001b[0m\u001b[1;33m(\u001b[0m\u001b[0mnp\u001b[0m\u001b[1;33m.\u001b[0m\u001b[0mdouble\u001b[0m\u001b[1;33m)\u001b[0m\u001b[1;33m,\u001b[0m \u001b[0mdecimals\u001b[0m\u001b[1;33m=\u001b[0m\u001b[1;36m4\u001b[0m\u001b[1;33m)\u001b[0m\u001b[1;33m\u001b[0m\u001b[0m\n\u001b[0;32m      6\u001b[0m     \u001b[1;32mreturn\u001b[0m \u001b[0mresult_round\u001b[0m\u001b[1;33m\u001b[0m\u001b[0m\n",
      "\u001b[1;31mMemoryError\u001b[0m: "
     ]
    }
   ],
   "source": [
    "word_features_orig = fMRI_process(file = 'subject_1.mat')"
   ]
  },
  {
   "cell_type": "code",
   "execution_count": null,
   "metadata": {},
   "outputs": [],
   "source": []
  }
 ],
 "metadata": {
  "kernelspec": {
   "display_name": "Python [conda env:anaconda3]",
   "language": "python",
   "name": "conda-env-anaconda3-py"
  },
  "language_info": {
   "codemirror_mode": {
    "name": "ipython",
    "version": 3
   },
   "file_extension": ".py",
   "mimetype": "text/x-python",
   "name": "python",
   "nbconvert_exporter": "python",
   "pygments_lexer": "ipython3",
   "version": "3.6.4"
  }
 },
 "nbformat": 4,
 "nbformat_minor": 2
}
